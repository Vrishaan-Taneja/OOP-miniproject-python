{
 "cells": [
  {
   "cell_type": "code",
   "execution_count": 1,
   "id": "2dde824c",
   "metadata": {},
   "outputs": [
    {
     "name": "stdout",
     "output_type": "stream",
     "text": [
      "Complex Number 1: 3 + 4i\n",
      "Complex Number 2: 1 + 2i\n",
      "Sum: 4 + 6i\n",
      "Magnitude of Complex Number 1: 5.0\n"
     ]
    }
   ],
   "source": [
    "\n",
    "class ComplexNumber:\n",
    "    def __init__(self, real, imag):\n",
    "        \"\"\"Initialize a ComplexNumber with real and imaginary parts.\"\"\"\n",
    "        self.real = real\n",
    "        self.imag = imag\n",
    "\n",
    "    def add(self, c):\n",
    "        \"\"\"Add another ComplexNumber to the current one and return a new ComplexNumber.\"\"\"\n",
    "        return ComplexNumber(self.real + c.real, self.imag + c.imag)\n",
    "\n",
    "    def magnitude(self):\n",
    "        \"\"\"Return the magnitude of the complex number.\"\"\"\n",
    "        return (self.real ** 2 + self.imag ** 2) ** 0.5\n",
    "\n",
    "    def __str__(self):\n",
    "        \"\"\"Return a string representation of the complex number.\"\"\"\n",
    "        return f\"{self.real} + {self.imag}i\"\n",
    "\n",
    "# Example Usage\n",
    "if __name__ == \"__main__\":\n",
    "    c1 = ComplexNumber(3, 4)\n",
    "    c2 = ComplexNumber(1, 2)\n",
    "    print(\"Complex Number 1:\", c1)\n",
    "    print(\"Complex Number 2:\", c2)\n",
    "\n",
    "    c3 = c1.add(c2)\n",
    "    print(\"Sum:\", c3)\n",
    "    \n",
    "    print(\"Magnitude of Complex Number 1:\", c1.magnitude())\n"
   ]
  },
  {
   "cell_type": "code",
   "execution_count": null,
   "id": "bcaa8a44-d1b5-4b23-a56e-7a887ede6343",
   "metadata": {},
   "outputs": [],
   "source": []
  }
 ],
 "metadata": {
  "kernelspec": {
   "display_name": "Python 3 (ipykernel)",
   "language": "python",
   "name": "python3"
  },
  "language_info": {
   "codemirror_mode": {
    "name": "ipython",
    "version": 3
   },
   "file_extension": ".py",
   "mimetype": "text/x-python",
   "name": "python",
   "nbconvert_exporter": "python",
   "pygments_lexer": "ipython3",
   "version": "3.11.7"
  }
 },
 "nbformat": 4,
 "nbformat_minor": 5
}
