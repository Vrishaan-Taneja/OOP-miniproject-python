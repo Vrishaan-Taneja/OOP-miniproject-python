{
 "cells": [
  {
   "cell_type": "code",
   "execution_count": 2,
   "id": "686d065a",
   "metadata": {},
   "outputs": [
    {
     "name": "stdout",
     "output_type": "stream",
     "text": [
      "Question 1 Demonstration:\n",
      "Name: Alice, Age: 21\n",
      "Student ID: S12345\n"
     ]
    }
   ],
   "source": [
    "\n",
    "# Question 1\n",
    "class Person:\n",
    "    def __init__(self, name, age):\n",
    "        self.name = name\n",
    "        self.age = age\n",
    "\n",
    "    def display(self):\n",
    "        print(f\"Name: {self.name}, Age: {self.age}\")\n",
    "\n",
    "class Student(Person):\n",
    "    def __init__(self, name, age, student_id):\n",
    "        super().__init__(name, age)\n",
    "        self.student_id = student_id\n",
    "\n",
    "    def show_details(self):\n",
    "        self.display()\n",
    "        print(f\"Student ID: {self.student_id}\")\n",
    "\n",
    "# Demonstration\n",
    "print(\"Question 1 Demonstration:\")\n",
    "student = Student(\"Alice\", 21, \"S12345\")\n",
    "student.show_details()\n",
    "\n"
   ]
  },
  {
   "cell_type": "code",
   "execution_count": 3,
   "id": "c9c3e16f-2e94-45ba-82c7-25d7faf10fcd",
   "metadata": {},
   "outputs": [
    {
     "name": "stdout",
     "output_type": "stream",
     "text": [
      "\n",
      "Question 2 Demonstration:\n",
      "This is a vehicle\n",
      "This is a car\n",
      "This car has a battery\n"
     ]
    }
   ],
   "source": [
    "# Question 2\n",
    "class Vehicle:\n",
    "    def info(self):\n",
    "        print(\"This is a vehicle\")\n",
    "\n",
    "class Car(Vehicle):\n",
    "    def car_info(self):\n",
    "        print(\"This is a car\")\n",
    "\n",
    "class ElectricCar(Car):\n",
    "    def battery_info(self):\n",
    "        print(\"This car has a battery\")\n",
    "\n",
    "# Demonstration\n",
    "print(\"\\nQuestion 2 Demonstration:\")\n",
    "electric_car = ElectricCar()\n",
    "electric_car.info()\n",
    "electric_car.car_info()\n",
    "electric_car.battery_info()\n",
    "\n",
    "\n"
   ]
  },
  {
   "cell_type": "code",
   "execution_count": 5,
   "id": "72f4bd1a-ef6f-4c74-bd7c-f82fb9ac10be",
   "metadata": {},
   "outputs": [
    {
     "name": "stdout",
     "output_type": "stream",
     "text": [
      "\n",
      "Question 3 Demonstration:\n",
      "Calling Teacher's description:\n",
      "I am a Teacher.\n",
      "Calling Author's description:\n",
      "I am an Author.\n"
     ]
    }
   ],
   "source": [
    "# Question 3\n",
    "class Teacher:\n",
    "    def description(self):\n",
    "        print(\"I am a Teacher.\")\n",
    "\n",
    "class Author:\n",
    "    def description(self):\n",
    "        print(\"I am an Author.\")\n",
    "\n",
    "class TutorAuthor(Teacher, Author):\n",
    "    def show_profession(self):\n",
    "        print(\"Calling Teacher's description:\")\n",
    "        Teacher.description(self)\n",
    "        print(\"Calling Author's description:\")\n",
    "        Author.description(self)\n",
    "\n",
    "# Demonstration\n",
    "print(\"\\nQuestion 3 Demonstration:\")\n",
    "tutor_author = TutorAuthor()\n",
    "tutor_author.show_profession()\n",
    "\n"
   ]
  },
  {
   "cell_type": "code",
   "execution_count": 4,
   "id": "5f3a450b-53e1-4a6d-a603-201192d91de8",
   "metadata": {},
   "outputs": [
    {
     "name": "stdout",
     "output_type": "stream",
     "text": [
      "\n",
      "Question 4 Demonstration:\n",
      "Dog barks\n",
      "Cat meows\n"
     ]
    }
   ],
   "source": [
    "# Question 4\n",
    "class Animal:\n",
    "    def sound(self):\n",
    "        print(\"Animals make sound\")\n",
    "\n",
    "class Dog(Animal):\n",
    "    def sound(self):\n",
    "        print(\"Dog barks\")\n",
    "\n",
    "class Cat(Animal):\n",
    "    def sound(self):\n",
    "        print(\"Cat meows\")\n",
    "\n",
    "# Demonstration\n",
    "print(\"\\nQuestion 4 Demonstration:\")\n",
    "dog = Dog()\n",
    "cat = Cat()\n",
    "\n",
    "dog.sound()\n",
    "cat.sound()"
   ]
  },
  {
   "cell_type": "code",
   "execution_count": null,
   "id": "1b919e52-d96c-442c-8950-2f3d9778c7a8",
   "metadata": {},
   "outputs": [],
   "source": []
  }
 ],
 "metadata": {
  "kernelspec": {
   "display_name": "Python 3 (ipykernel)",
   "language": "python",
   "name": "python3"
  },
  "language_info": {
   "codemirror_mode": {
    "name": "ipython",
    "version": 3
   },
   "file_extension": ".py",
   "mimetype": "text/x-python",
   "name": "python",
   "nbconvert_exporter": "python",
   "pygments_lexer": "ipython3",
   "version": "3.11.7"
  }
 },
 "nbformat": 4,
 "nbformat_minor": 5
}
