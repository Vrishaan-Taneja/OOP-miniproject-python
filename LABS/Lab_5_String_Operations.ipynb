{
 "cells": [
  {
   "cell_type": "markdown",
   "id": "cac62640",
   "metadata": {},
   "source": [
    "# Lab 5: String Operations"
   ]
  },
  {
   "cell_type": "markdown",
   "id": "a6777184",
   "metadata": {},
   "source": [
    "### Separate String into Comma-Separated Values"
   ]
  },
  {
   "cell_type": "code",
   "execution_count": 1,
   "id": "0c8e5717",
   "metadata": {},
   "outputs": [
    {
     "name": "stdout",
     "output_type": "stream",
     "text": [
      "India,is,my,country\n"
     ]
    }
   ],
   "source": [
    "\n",
    "X = \"India.is.my.country\"\n",
    "print(\",\".join(X.split(\".\")))\n",
    "    "
   ]
  },
  {
   "cell_type": "markdown",
   "id": "d64c96ff",
   "metadata": {},
   "source": [
    "### Sort Strings Alphabetically"
   ]
  },
  {
   "cell_type": "code",
   "execution_count": 2,
   "id": "d3130785",
   "metadata": {},
   "outputs": [
    {
     "name": "stdout",
     "output_type": "stream",
     "text": [
      "['apple', 'banana', 'cherry', 'date']\n"
     ]
    }
   ],
   "source": [
    "\n",
    "strings = [\"banana\", \"apple\", \"cherry\", \"date\"]\n",
    "strings.sort()\n",
    "print(strings)\n",
    "    "
   ]
  },
  {
   "cell_type": "markdown",
   "id": "47aacb57",
   "metadata": {},
   "source": [
    "### Remove a Given Character from a String"
   ]
  },
  {
   "cell_type": "code",
   "execution_count": 3,
   "id": "57705d0a",
   "metadata": {},
   "outputs": [
    {
     "name": "stdout",
     "output_type": "stream",
     "text": [
      "MANIPAL\n"
     ]
    }
   ],
   "source": [
    "\n",
    "Y = \"M.A.N.I.P.A.L\"\n",
    "character_to_remove = \".\"\n",
    "print(Y.replace(character_to_remove, \"\"))\n",
    "    "
   ]
  },
  {
   "cell_type": "markdown",
   "id": "ffb77222",
   "metadata": {},
   "source": [
    "### Remove the Dots from a String"
   ]
  },
  {
   "cell_type": "code",
   "execution_count": 4,
   "id": "2dddbb84",
   "metadata": {},
   "outputs": [
    {
     "name": "stdout",
     "output_type": "stream",
     "text": [
      "MANIPAL\n"
     ]
    }
   ],
   "source": [
    "\n",
    "Y = \"M.A.N.I.P.A.L\"\n",
    "print(Y.replace(\".\", \"\"))\n",
    "    "
   ]
  },
  {
   "cell_type": "markdown",
   "id": "77d014c6",
   "metadata": {},
   "source": [
    "### Reverse a User-Input String"
   ]
  },
  {
   "cell_type": "code",
   "execution_count": 5,
   "id": "9768cfb2",
   "metadata": {},
   "outputs": [
    {
     "name": "stdin",
     "output_type": "stream",
     "text": [
      "Enter a string:  hello\n"
     ]
    },
    {
     "name": "stdout",
     "output_type": "stream",
     "text": [
      "Reversed string: olleh\n"
     ]
    }
   ],
   "source": [
    "\n",
    "user_input = input(\"Enter a string: \")\n",
    "print(\"Reversed string:\", user_input[::-1])\n",
    "    "
   ]
  },
  {
   "cell_type": "markdown",
   "id": "d05788dd",
   "metadata": {},
   "source": [
    "### Check if a String Contains Only Digits"
   ]
  },
  {
   "cell_type": "code",
   "execution_count": 6,
   "id": "8e57005b",
   "metadata": {},
   "outputs": [
    {
     "name": "stdin",
     "output_type": "stream",
     "text": [
      "Enter a string:  hello\n"
     ]
    },
    {
     "name": "stdout",
     "output_type": "stream",
     "text": [
      "The string does not contain only digits.\n"
     ]
    }
   ],
   "source": [
    "\n",
    "string = input(\"Enter a string: \")\n",
    "if string.isdigit():\n",
    "    print(\"The string contains only digits.\")\n",
    "else:\n",
    "    print(\"The string does not contain only digits.\")\n",
    "    "
   ]
  },
  {
   "cell_type": "markdown",
   "id": "bcc43c0d",
   "metadata": {},
   "source": [
    "### Check if a String is Palindrome"
   ]
  },
  {
   "cell_type": "code",
   "execution_count": 7,
   "id": "8b03060a",
   "metadata": {},
   "outputs": [
    {
     "name": "stdin",
     "output_type": "stream",
     "text": [
      "Enter a string:  heklo\n"
     ]
    },
    {
     "name": "stdout",
     "output_type": "stream",
     "text": [
      "The string is not a palindrome.\n"
     ]
    }
   ],
   "source": [
    "\n",
    "string = input(\"Enter a string: \")\n",
    "if string == string[::-1]:\n",
    "    print(\"The string is a palindrome.\")\n",
    "else:\n",
    "    print(\"The string is not a palindrome.\")\n",
    "    "
   ]
  },
  {
   "cell_type": "markdown",
   "id": "5c86c2fa",
   "metadata": {},
   "source": [
    "### Find the Number of Vowels in a String"
   ]
  },
  {
   "cell_type": "code",
   "execution_count": 8,
   "id": "0c0f9aab",
   "metadata": {},
   "outputs": [
    {
     "name": "stdin",
     "output_type": "stream",
     "text": [
      "Enter a string:  hello\n"
     ]
    },
    {
     "name": "stdout",
     "output_type": "stream",
     "text": [
      "Number of vowels: 2\n"
     ]
    }
   ],
   "source": [
    "\n",
    "vowels = \"aeiouAEIOU\"\n",
    "string = input(\"Enter a string: \")\n",
    "count = sum(1 for char in string if char in vowels)\n",
    "print(\"Number of vowels:\", count)\n",
    "    "
   ]
  },
  {
   "cell_type": "markdown",
   "id": "f50ce2d3",
   "metadata": {},
   "source": [
    "### Check if Every Word in a String Begins with a Capital Letter"
   ]
  },
  {
   "cell_type": "code",
   "execution_count": 9,
   "id": "82e0a460",
   "metadata": {},
   "outputs": [
    {
     "name": "stdin",
     "output_type": "stream",
     "text": [
      "Enter a string:  hello\n"
     ]
    },
    {
     "name": "stdout",
     "output_type": "stream",
     "text": [
      "Not every word begins with a capital letter.\n"
     ]
    }
   ],
   "source": [
    "\n",
    "string = input(\"Enter a string: \")\n",
    "if all(word[0].isupper() for word in string.split()):\n",
    "    print(\"Every word begins with a capital letter.\")\n",
    "else:\n",
    "    print(\"Not every word begins with a capital letter.\")\n",
    "    "
   ]
  }
 ],
 "metadata": {
  "kernelspec": {
   "display_name": "Python 3 (ipykernel)",
   "language": "python",
   "name": "python3"
  },
  "language_info": {
   "codemirror_mode": {
    "name": "ipython",
    "version": 3
   },
   "file_extension": ".py",
   "mimetype": "text/x-python",
   "name": "python",
   "nbconvert_exporter": "python",
   "pygments_lexer": "ipython3",
   "version": "3.11.7"
  }
 },
 "nbformat": 4,
 "nbformat_minor": 5
}
