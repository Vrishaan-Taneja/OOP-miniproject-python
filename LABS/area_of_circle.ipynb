{
    "cells": [
        {
            "cell_type": "code",
            "execution_count": null,
            "metadata": {},
            "outputs": [],
            "source": [
                "# Initial Variable Assignments and Checks\n",
                "a = 10\n",
                "b = 10\n",
                "c = 20\n",
                "\n",
                "# Printing memory addresses of variables\n",
                "print(id(a))\n",
                "print(\"\\n\")\n",
                "print(id(b))\n",
                "print(\"\\n\")\n",
                "print(id(c))\n",
                "\n",
                "# Checking types and relationships between variables\n",
                "print(type(a))  # Type of a\n",
                "print(type(b))  # Type of b\n",
                "print(a is b)   # Identity check\n",
                "\n",
                "# Assigning new values to variables\n",
                "a = b = c = 1\n",
                "print(a, b, c)\n",
                "\n",
                "a, b = 20, 30\n",
                "\n",
                "# Program to find the area of a circle manually\n",
                "pi = 3.141593653589793238462643\n",
                "r = 10\n",
                "print(\"Area of circle is: \", pi * (r**2))\n",
                "\n",
                "# Program to find the area of a circle with user input\n",
                "pi = 3.141593653589793238462643\n",
                "r = int(input(\"Enter the radius of circle: \"))\n",
                "print(\"Area of circle is: \", pi * (r**2))\n",
                "\n",
                "# Using the math module to calculate the area of a circle\n",
                "import math\n",
                "r = int(input(\"Enter Radius: \"))\n",
                "a = math.pi * r * r\n",
                "print(\"Area of circle using math module: \", a)"
            ]
        }
    ],
    "metadata": {
        "kernelspec": {
            "display_name": "Python 3",
            "language": "python",
            "name": "python3"
        },
        "language_info": {
            "codemirror_mode": {
                "name": "ipython",
                "version": 3
            },
            "file_extension": ".py",
            "mimetype": "text/x-python",
            "name": "python",
            "nbconvert_exporter": "python",
            "pygments_lexer": "ipython3",
            "version": "3.8"
        }
    },
    "nbformat": 4,
    "nbformat_minor": 5
}