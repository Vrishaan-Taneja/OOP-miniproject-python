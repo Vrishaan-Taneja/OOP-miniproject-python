{
 "cells": [
  {
   "cell_type": "code",
   "execution_count": 1,
   "id": "e514ac22",
   "metadata": {},
   "outputs": [
    {
     "name": "stdout",
     "output_type": "stream",
     "text": [
      "1. Handling Normal Exceptions:\n"
     ]
    },
    {
     "name": "stdin",
     "output_type": "stream",
     "text": [
      "Enter a number:  20\n"
     ]
    },
    {
     "name": "stdout",
     "output_type": "stream",
     "text": [
      "Result: 0.5\n",
      "\n",
      "2. Handling Two Errors as One:\n"
     ]
    },
    {
     "name": "stdin",
     "output_type": "stream",
     "text": [
      "Enter an index:  0\n",
      "Enter a divisor:  0\n"
     ]
    },
    {
     "name": "stdout",
     "output_type": "stream",
     "text": [
      "Error: Either an invalid index or a zero division occurred.\n",
      "\n",
      "3. Custom Exceptions:\n",
      "Caught a custom exception: This is a custom error.\n",
      "\n",
      "4. Exception Chaining:\n"
     ]
    },
    {
     "name": "stdin",
     "output_type": "stream",
     "text": [
      "Enter a number:  0\n"
     ]
    }
   ],
   "source": [
    "\n",
    "# Lab-9: Exception Handling\n",
    "\n",
    "# 1. Handling normal exceptions\n",
    "def handle_normal_exceptions():\n",
    "    try:\n",
    "        num = int(input(\"Enter a number: \"))\n",
    "        result = 10 / num\n",
    "        print(f\"Result: {result}\")\n",
    "    except ZeroDivisionError as e:\n",
    "        print(\"Error: Cannot divide by zero.\")\n",
    "    except ValueError as e:\n",
    "        print(\"Error: Invalid input. Please enter a number.\")\n",
    "\n",
    "# 2. Handling two errors as one\n",
    "def handle_two_errors_as_one():\n",
    "    try:\n",
    "        lst = [1, 2, 3]\n",
    "        index = int(input(\"Enter an index: \"))\n",
    "        print(lst[index] / int(input(\"Enter a divisor: \")))\n",
    "    except (IndexError, ZeroDivisionError) as e:\n",
    "        print(\"Error: Either an invalid index or a zero division occurred.\")\n",
    "\n",
    "# 3. Custom exceptions\n",
    "class CustomError(Exception):\n",
    "    def __init__(self, message):\n",
    "        self.message = message\n",
    "\n",
    "def raise_custom_exception():\n",
    "    try:\n",
    "        raise CustomError(\"This is a custom error.\")\n",
    "    except CustomError as e:\n",
    "        print(f\"Caught a custom exception: {e.message}\")\n",
    "\n",
    "# 4. Exception chaining and use of 'from' and 'as'\n",
    "def exception_chaining_example():\n",
    "    try:\n",
    "        try:\n",
    "            num = int(input(\"Enter a number: \"))\n",
    "            if num < 0:\n",
    "                raise ValueError(\"Negative number not allowed\")\n",
    "        except ValueError as ve:\n",
    "            raise TypeError(\"A type error occurred\") from ve\n",
    "    except TypeError as te:\n",
    "        print(f\"Caught exception: {te} (caused by {te.__cause__})\")\n",
    "\n",
    "# Demonstrations\n",
    "print(\"1. Handling Normal Exceptions:\")\n",
    "handle_normal_exceptions()\n",
    "\n",
    "print(\"\\n2. Handling Two Errors as One:\")\n",
    "handle_two_errors_as_one()\n",
    "\n",
    "print(\"\\n3. Custom Exceptions:\")\n",
    "raise_custom_exception()\n",
    "\n",
    "print(\"\\n4. Exception Chaining:\")\n",
    "exception_chaining_example()\n"
   ]
  },
  {
   "cell_type": "code",
   "execution_count": null,
   "id": "1e65d478-a27f-4b03-8a02-3676b00c4ce8",
   "metadata": {},
   "outputs": [],
   "source": []
  }
 ],
 "metadata": {
  "kernelspec": {
   "display_name": "Python 3 (ipykernel)",
   "language": "python",
   "name": "python3"
  },
  "language_info": {
   "codemirror_mode": {
    "name": "ipython",
    "version": 3
   },
   "file_extension": ".py",
   "mimetype": "text/x-python",
   "name": "python",
   "nbconvert_exporter": "python",
   "pygments_lexer": "ipython3",
   "version": "3.11.7"
  }
 },
 "nbformat": 4,
 "nbformat_minor": 5
}
