{
 "cells": [
  {
   "cell_type": "code",
   "execution_count": null,
   "id": "84e3da46",
   "metadata": {},
   "outputs": [],
   "source": [
    "a=int(input(\"Enter any Integer\"))\n",
    "print(\"The Value of a is :\",a)"
   ]
  },
  {
   "cell_type": "code",
   "execution_count": null,
   "id": "74fc5f5f",
   "metadata": {},
   "outputs": [],
   "source": [
    "a=float(input(\"Enter any float\"))\n",
    "print(\"The Value of a is :\",a)\n",
    "print(type(a))"
   ]
  },
  {
   "cell_type": "code",
   "execution_count": null,
   "id": "0d16a268",
   "metadata": {},
   "outputs": [],
   "source": [
    "a=input(\"Enter any string\")\n",
    "print(\"The Value of a is :\",a)\n",
    "print(type(a))"
   ]
  },
  {
   "cell_type": "code",
   "execution_count": null,
   "id": "21f77054",
   "metadata": {},
   "outputs": [],
   "source": [
    "a=eval(input(\"Enter any Integer\"))\n",
    "print(\"The Value of a is :\",a)\n",
    "print(type(a))"
   ]
  },
  {
   "cell_type": "code",
   "execution_count": null,
   "id": "9b62b095",
   "metadata": {},
   "outputs": [],
   "source": [
    "a=eval(input(\"Enter any Float\"))\n",
    "print(\"The Value of a is :\",a)\n",
    "print(type(a))"
   ]
  },
  {
   "cell_type": "code",
   "execution_count": null,
   "id": "d1c00690",
   "metadata": {},
   "outputs": [],
   "source": [
    "a=eval(input(\"Enter any string\"))\n",
    "print(\"The Value of a is :\",a)\n",
    "print(type(a))"
   ]
  },
  {
   "cell_type": "code",
   "execution_count": null,
   "id": "66d635d8",
   "metadata": {},
   "outputs": [],
   "source": [
    "gpa=7.0\n",
    "if gpa > 6.0:\n",
    "    print(\"Welcome to MUJ\")\n",
    "else:\n",
    "    print(\"Your Application is Denied\")"
   ]
  },
  {
   "cell_type": "code",
   "execution_count": null,
   "id": "06c14160",
   "metadata": {},
   "outputs": [],
   "source": [
    "gpa=7.0\n",
    "print(\"Welcome to MUJ\" if gpa>6.0 else \"Your application is denied\")"
   ]
  },
  {
   "cell_type": "code",
   "execution_count": null,
   "id": "7f8c482d",
   "metadata": {},
   "outputs": [],
   "source": [
    "if print('wello'):\n",
    "    print('hello')"
   ]
  },
  {
   "cell_type": "code",
   "execution_count": null,
   "id": "9fd5c383",
   "metadata": {},
   "outputs": [],
   "source": [
    "num=int(input(\"Enter the number\"))\n",
    "print(\"even\" if num%2==0 else \"odd\");"
   ]
  },
  {
   "cell_type": "code",
   "execution_count": null,
   "id": "4e3167c8",
   "metadata": {},
   "outputs": [],
   "source": [
    "def oddeven(a):\n",
    "    if a%2==0:\n",
    "        print(\"the numeber is even\")\n",
    "        return\n",
    "    print(\"the number is odd\")\n",
    "    return\n",
    "\n",
    "oddeven(10)"
   ]
  },
  {
   "cell_type": "code",
   "execution_count": null,
   "id": "f422621e",
   "metadata": {},
   "outputs": [],
   "source": [
    "a=int(input(\"Please enter the integer\"))\n",
    "flag='odd'\n",
    "if a%2==0:\n",
    "    flag=\"even\"\n",
    "print(flag)"
   ]
  },
  {
   "cell_type": "code",
   "execution_count": null,
   "id": "bbc4c0f9",
   "metadata": {},
   "outputs": [],
   "source": [
    "mark1=float(input(\"enter marks 1\"))\n",
    "mark2=float(input(\"enter marks 2\"))\n",
    "mark3=float(input(\"enter marks 3\"))\n",
    "mark4=float(input(\"enter marks 4\"))\n",
    "mark5=float(input(\"enter marks 5\"))\n",
    "per=(mark1+mark2+mark3+mark4+mark5)/5\n",
    "\n",
    "if per>90:\n",
    "    print(\"Grade A+\")\n",
    "elif (per<=90)and(per>80):\n",
    "    print(\"Grade A\")\n",
    "elif (per<=80)and(per>70):\n",
    "    print(\"Grade B\")\n",
    "elif (per<=70)and(per>60):\n",
    "    print(\"Grade B+\")\n",
    "elif (per<=60)and(per>50):\n",
    "    print(\"Grade C\")\n",
    "elif (per<=50)and(per>40):\n",
    "    print(\"Grade D\")\n",
    "elif (per<=40)and(per>35):\n",
    "    print(\"Grade E\")\n",
    "elif per>35:\n",
    "    print(\"Grade F\")\n",
    "else:\n",
    "    print(\"invalid marks\")"
   ]
  },
  {
   "cell_type": "code",
   "execution_count": null,
   "id": "93d7f15c",
   "metadata": {},
   "outputs": [],
   "source": [
    "(100+99+98+80+75)/5"
   ]
  },
  {
   "cell_type": "code",
   "execution_count": null,
   "id": "4e3e8d83",
   "metadata": {},
   "outputs": [],
   "source": [
    "print(\"Hello\"+2*\"World\")"
   ]
  },
  {
   "cell_type": "code",
   "execution_count": null,
   "id": "b2675c60",
   "metadata": {},
   "outputs": [],
   "source": [
    "x=10\n",
    "y=10.0\n",
    "print(type(x) is type(y))\n",
    "print(y==x)"
   ]
  },
  {
   "cell_type": "code",
   "execution_count": null,
   "id": "ca0f12dd",
   "metadata": {},
   "outputs": [],
   "source": [
    "print(type(3.0) is float)\n",
    "print(type(3.0) is not float)"
   ]
  },
  {
   "cell_type": "code",
   "execution_count": null,
   "id": "c52c6365",
   "metadata": {},
   "outputs": [],
   "source": [
    "print(eval(\"float\") is float)"
   ]
  },
  {
   "cell_type": "code",
   "execution_count": null,
   "id": "8728c1b7",
   "metadata": {},
   "outputs": [],
   "source": [
    "print(type({}))\n",
    "type({})"
   ]
  },
  {
   "cell_type": "code",
   "execution_count": null,
   "id": "0d9a2185",
   "metadata": {},
   "outputs": [],
   "source": [
    "x={1,2,3,4,5,3,2,14}\n",
    "print(x)"
   ]
  },
  {
   "cell_type": "code",
   "execution_count": null,
   "id": "6f4befea",
   "metadata": {},
   "outputs": [],
   "source": [
    "y=frozenset(x)\n",
    "print(2**3**2)"
   ]
  },
  {
   "cell_type": "code",
   "execution_count": null,
   "id": "bc4671fa",
   "metadata": {},
   "outputs": [],
   "source": [
    "x,y=2,5\n",
    "print(x**y%3)"
   ]
  },
  {
   "cell_type": "code",
   "execution_count": null,
   "id": "82495169",
   "metadata": {},
   "outputs": [],
   "source": [
    "print(-10//3)"
   ]
  },
  {
   "cell_type": "code",
   "execution_count": null,
   "id": "a885799a",
   "metadata": {},
   "outputs": [],
   "source": [
    "print(5&3|2)"
   ]
  },
  {
   "cell_type": "code",
   "execution_count": null,
   "id": "303b7151",
   "metadata": {},
   "outputs": [],
   "source": [
    "print(5<<1&3)"
   ]
  }
 ],
 "metadata": {
  "kernelspec": {
   "display_name": "Python 3",
   "name": "python3"
  }
 },
 "nbformat": 4,
 "nbformat_minor": 5
}
