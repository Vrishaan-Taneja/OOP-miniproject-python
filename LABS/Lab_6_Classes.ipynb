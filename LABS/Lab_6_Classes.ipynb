{
 "cells": [
  {
   "cell_type": "markdown",
   "id": "7b664fa3-9241-425b-8fda-f6a2c5128878",
   "metadata": {},
   "source": [
    "# Lab 6\n",
    "\n"
   ]
  },
  {
   "cell_type": "markdown",
   "id": "d3170e4b-9304-4c69-b7ac-e5143e9c0cda",
   "metadata": {},
   "source": [
    "## Task 1: Create a Class Called \"Person\""
   ]
  },
  {
   "cell_type": "code",
   "execution_count": 1,
   "id": "bb5a339f-ddc2-4122-939b-93e11c560d3a",
   "metadata": {},
   "outputs": [
    {
     "name": "stdout",
     "output_type": "stream",
     "text": [
      "Name: Alice, Age: 30\n",
      "Name: Bob, Age: 25\n"
     ]
    }
   ],
   "source": [
    "class Person:\n",
    "    def __init__(self, name, age):\n",
    "        self.name = name\n",
    "        self.age = age\n",
    "\n",
    "    def display_info(self):\n",
    "        print(f\"Name: {self.name}, Age: {self.age}\")\n",
    "\n",
    "# Create instances of Person\n",
    "person1 = Person(\"Alice\", 30)\n",
    "person2 = Person(\"Bob\", 25)\n",
    "\n",
    "# Display information\n",
    "person1.display_info()\n",
    "person2.display_info()"
   ]
  },
  {
   "cell_type": "markdown",
   "id": "603fd08d-a626-4001-af17-438acb3584ce",
   "metadata": {},
   "source": [
    "## Task 2: Create a Class Named \"Student\" with Attributes Name and Roll Number\n",
    "\n"
   ]
  },
  {
   "cell_type": "code",
   "execution_count": 2,
   "id": "01d3ecff-d838-4de4-af26-621f7b07d92e",
   "metadata": {},
   "outputs": [
    {
     "name": "stdout",
     "output_type": "stream",
     "text": [
      "Student Name: John, Roll No: 2\n"
     ]
    }
   ],
   "source": [
    "class Student:\n",
    "    def __init__(self, name, roll_no):\n",
    "        self.name = name\n",
    "        self.roll_no = roll_no\n",
    "\n",
    "# Create an instance of Student\n",
    "student = Student(\"John\", 2)\n",
    "\n",
    "# Display attributes\n",
    "print(f\"Student Name: {student.name}, Roll No: {student.roll_no}\")"
   ]
  },
  {
   "cell_type": "markdown",
   "id": "c93aee5f-7ad3-4544-94b1-b3357b68048c",
   "metadata": {},
   "source": [
    "## Task 3: Define a Class to Represent a Bank Account"
   ]
  },
  {
   "cell_type": "code",
   "execution_count": 3,
   "id": "4f08e48b-101c-4ecc-b344-d934ca97ee36",
   "metadata": {},
   "outputs": [
    {
     "name": "stdout",
     "output_type": "stream",
     "text": [
      "Account balance: 500\n",
      "Deposited 200. New balance: 700\n",
      "Withdrew 100. New balance: 600\n",
      "Account balance: 600\n"
     ]
    }
   ],
   "source": [
    "class BankAccount:\n",
    "    def __init__(self, owner, balance=0):\n",
    "        self.owner = owner\n",
    "        self.balance = balance\n",
    "\n",
    "    def deposit(self, amount):\n",
    "        if amount > 0:\n",
    "            self.balance += amount\n",
    "            print(f\"Deposited {amount}. New balance: {self.balance}\")\n",
    "        else:\n",
    "            print(\"Invalid deposit amount.\")\n",
    "\n",
    "    def withdraw(self, amount):\n",
    "        if 0 < amount <= self.balance:\n",
    "            self.balance -= amount\n",
    "            print(f\"Withdrew {amount}. New balance: {self.balance}\")\n",
    "        else:\n",
    "            print(\"Insufficient balance or invalid amount.\")\n",
    "\n",
    "    def check_balance(self):\n",
    "        print(f\"Account balance: {self.balance}\")\n",
    "\n",
    "# Create a bank account instance\n",
    "account = BankAccount(\"Alice\", 500)\n",
    "account.check_balance()\n",
    "account.deposit(200)\n",
    "account.withdraw(100)\n",
    "account.check_balance()"
   ]
  },
  {
   "cell_type": "markdown",
   "id": "8b203da7-0b9b-4c4c-913c-dea587ec265c",
   "metadata": {},
   "source": [
    "## Task 4: Define a Class \"Student\" with Name and Age Attributes"
   ]
  },
  {
   "cell_type": "code",
   "execution_count": 4,
   "id": "51bd4ba3-e618-4e79-99e4-7c0b3bc01ab6",
   "metadata": {},
   "outputs": [
    {
     "name": "stdout",
     "output_type": "stream",
     "text": [
      "Name: John, Age: 20\n",
      "Name: Alice, Age: 22\n"
     ]
    }
   ],
   "source": [
    "class Student:\n",
    "    def __init__(self, name, age):\n",
    "        self.name = name\n",
    "        self.age = age\n",
    "\n",
    "    def display_info(self):\n",
    "        print(f\"Name: {self.name}, Age: {self.age}\")\n",
    "\n",
    "# Create instances of Student\n",
    "student1 = Student(\"John\", 20)\n",
    "student2 = Student(\"Alice\", 22)\n",
    "\n",
    "# Display information\n",
    "student1.display_info()\n",
    "student2.display_info()"
   ]
  },
  {
   "cell_type": "code",
   "execution_count": null,
   "id": "bc1adeb4-3bef-4bb2-8a16-79381c29f258",
   "metadata": {},
   "outputs": [],
   "source": []
  }
 ],
 "metadata": {
  "kernelspec": {
   "display_name": "Python 3 (ipykernel)",
   "language": "python",
   "name": "python3"
  },
  "language_info": {
   "codemirror_mode": {
    "name": "ipython",
    "version": 3
   },
   "file_extension": ".py",
   "mimetype": "text/x-python",
   "name": "python",
   "nbconvert_exporter": "python",
   "pygments_lexer": "ipython3",
   "version": "3.11.7"
  }
 },
 "nbformat": 4,
 "nbformat_minor": 5
}
