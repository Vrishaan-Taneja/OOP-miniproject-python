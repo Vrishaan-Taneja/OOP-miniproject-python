{
 "cells": [
  {
   "cell_type": "markdown",
   "id": "c7d60596",
   "metadata": {},
   "source": [
    "# Lab 4: Pattern-Based Questions and String Operations"
   ]
  },
  {
   "cell_type": "markdown",
   "id": "0fd7dbe4",
   "metadata": {},
   "source": [
    "## Pattern-Based Questions"
   ]
  },
  {
   "cell_type": "markdown",
   "id": "759c3708",
   "metadata": {},
   "source": [
    "### Simple Number Triangle Pattern"
   ]
  },
  {
   "cell_type": "code",
   "execution_count": 1,
   "id": "87e08790",
   "metadata": {},
   "outputs": [
    {
     "name": "stdout",
     "output_type": "stream",
     "text": [
      "1 \n",
      "2 2 \n",
      "3 3 3 \n",
      "4 4 4 4 \n",
      "5 5 5 5 5 \n"
     ]
    }
   ],
   "source": [
    "\n",
    "rows = 5\n",
    "for i in range(1, rows + 1):\n",
    "    print((str(i) + \" \") * i)\n",
    "    "
   ]
  },
  {
   "cell_type": "markdown",
   "id": "f2ebe2b4",
   "metadata": {},
   "source": [
    "### Inverted Pyramid of Numbers"
   ]
  },
  {
   "cell_type": "code",
   "execution_count": 2,
   "id": "82bdadaa",
   "metadata": {},
   "outputs": [
    {
     "name": "stdout",
     "output_type": "stream",
     "text": [
      "1 1 1 1 1 \n",
      " 2 2 2 2 \n",
      "  3 3 3 \n",
      "   4 4 \n",
      "    5 \n"
     ]
    }
   ],
   "source": [
    "\n",
    "rows = 5\n",
    "for i in range(1, rows + 1):\n",
    "    print(\" \" * (i - 1) + (str(i) + \" \") * (rows + 1 - i))\n",
    "    "
   ]
  },
  {
   "cell_type": "markdown",
   "id": "3f2d3c7a",
   "metadata": {},
   "source": [
    "### Half Pyramid Pattern of Numbers"
   ]
  },
  {
   "cell_type": "code",
   "execution_count": 3,
   "id": "8900e344",
   "metadata": {},
   "outputs": [
    {
     "name": "stdout",
     "output_type": "stream",
     "text": [
      "        1\n",
      "      1 2\n",
      "    1 2 3\n",
      "  1 2 3 4\n",
      "1 2 3 4 5\n"
     ]
    }
   ],
   "source": [
    "\n",
    "rows = 5\n",
    "for i in range(1, rows + 1):\n",
    "    print(\" \" * (rows - i) * 2 + \" \".join(str(x) for x in range(1, i + 1)))\n",
    "    "
   ]
  },
  {
   "cell_type": "markdown",
   "id": "dcfe29bc",
   "metadata": {},
   "source": [
    "### Inverted Pyramid of Descending Numbers"
   ]
  },
  {
   "cell_type": "code",
   "execution_count": 4,
   "id": "018a4bbf",
   "metadata": {},
   "outputs": [
    {
     "name": "stdout",
     "output_type": "stream",
     "text": [
      "5 5 5 5 5 \n",
      "  4 4 4 4 \n",
      "    3 3 3 \n",
      "      2 2 \n",
      "        1 \n"
     ]
    }
   ],
   "source": [
    "\n",
    "rows = 5\n",
    "for i in range(rows, 0, -1):\n",
    "    print(\" \" * (rows - i) * 2 + (str(i) + \" \") * i)\n",
    "    "
   ]
  },
  {
   "cell_type": "markdown",
   "id": "00fbf5bb",
   "metadata": {},
   "source": [
    "### Inverted Pyramid of the Same Digit"
   ]
  },
  {
   "cell_type": "code",
   "execution_count": 5,
   "id": "2f5f0a1e",
   "metadata": {},
   "outputs": [
    {
     "name": "stdout",
     "output_type": "stream",
     "text": [
      "5 5 5 5 5 \n",
      "  5 5 5 5 \n",
      "    5 5 5 \n",
      "      5 5 \n",
      "        5 \n"
     ]
    }
   ],
   "source": [
    "\n",
    "rows = 5\n",
    "for i in range(rows, 0, -1):\n",
    "    print(\" \" * (rows - i) * 2 + (str(rows) + \" \") * i)\n",
    "    "
   ]
  },
  {
   "cell_type": "markdown",
   "id": "da73c0c6",
   "metadata": {},
   "source": [
    "### Reverse Pyramid of Numbers"
   ]
  },
  {
   "cell_type": "code",
   "execution_count": 6,
   "id": "bb1883ec",
   "metadata": {},
   "outputs": [
    {
     "name": "stdout",
     "output_type": "stream",
     "text": [
      "    1\n",
      "   2 1\n",
      "  3 2 1\n",
      " 4 3 2 1\n",
      "5 4 3 2 1\n"
     ]
    }
   ],
   "source": [
    "\n",
    "rows = 5\n",
    "for i in range(1, rows + 1):\n",
    "    print(\" \" * (rows - i) + \" \".join(str(x) for x in range(i, 0, -1)))\n",
    "    "
   ]
  },
  {
   "cell_type": "markdown",
   "id": "33af2915",
   "metadata": {},
   "source": [
    "### Inverted Half Pyramid Number Pattern"
   ]
  },
  {
   "cell_type": "code",
   "execution_count": 7,
   "id": "746df790",
   "metadata": {},
   "outputs": [
    {
     "name": "stdout",
     "output_type": "stream",
     "text": [
      "0 1 2 3 4 5\n",
      "0 1 2 3 4\n",
      "0 1 2 3\n",
      "0 1 2\n",
      "0 1\n",
      "0\n"
     ]
    }
   ],
   "source": [
    "\n",
    "rows = 6\n",
    "for i in range(rows, 0, -1):\n",
    "    print(\" \".join(str(x) for x in range(i)))\n",
    "    "
   ]
  },
  {
   "cell_type": "markdown",
   "id": "f291a0e1",
   "metadata": {},
   "source": [
    "### Pyramid of Natural Numbers Less Than 10"
   ]
  },
  {
   "cell_type": "code",
   "execution_count": 8,
   "id": "6379eaca",
   "metadata": {},
   "outputs": [
    {
     "name": "stdout",
     "output_type": "stream",
     "text": [
      "1\n",
      "2 3 4\n",
      "5 6 7 8 9\n"
     ]
    }
   ],
   "source": [
    "\n",
    "n = 1\n",
    "for i in range(1, 4):\n",
    "    print(\" \".join(str(n + j) for j in range(i * 2 - 1)))\n",
    "    n += i * 2 - 1\n",
    "    "
   ]
  },
  {
   "cell_type": "markdown",
   "id": "7d551ce8",
   "metadata": {},
   "source": [
    "### Reverse Pattern of Digits from 10"
   ]
  },
  {
   "cell_type": "code",
   "execution_count": 9,
   "id": "b2ec0173",
   "metadata": {},
   "outputs": [
    {
     "name": "stdout",
     "output_type": "stream",
     "text": [
      "1\n",
      "3 2\n",
      "6 5 4\n",
      "10 9 8 7\n"
     ]
    }
   ],
   "source": [
    "\n",
    "num = 1\n",
    "for i in range(1, 5):\n",
    "    row = []\n",
    "    for j in range(i):\n",
    "        row.append(num)\n",
    "        num += 1\n",
    "    print(\" \".join(map(str, row[::-1])))\n",
    "    "
   ]
  },
  {
   "cell_type": "markdown",
   "id": "fed0851a",
   "metadata": {},
   "source": [
    "### Unique Pyramid Pattern of Digits"
   ]
  },
  {
   "cell_type": "code",
   "execution_count": 10,
   "id": "74da3683",
   "metadata": {},
   "outputs": [
    {
     "name": "stdout",
     "output_type": "stream",
     "text": [
      "1 \n",
      "1 2 1\n",
      "1 2 3 2 1\n",
      "1 2 3 4 3 2 1\n",
      "1 2 3 4 5 4 3 2 1\n"
     ]
    }
   ],
   "source": [
    "\n",
    "rows = 5\n",
    "for i in range(1, rows + 1):\n",
    "    left = \" \".join(str(x) for x in range(1, i + 1))\n",
    "    right = \" \".join(str(x) for x in range(i - 1, 0, -1))\n",
    "    print(left + \" \" + right)\n",
    "    "
   ]
  },
  {
   "cell_type": "markdown",
   "id": "7685f909",
   "metadata": {},
   "source": [
    "### Connected Inverted Pyramid Pattern of Numbers"
   ]
  },
  {
   "cell_type": "code",
   "execution_count": 11,
   "id": "5ad97aa1",
   "metadata": {},
   "outputs": [
    {
     "name": "stdout",
     "output_type": "stream",
     "text": [
      "5 5\n",
      "5 4 4 5\n",
      "5 4 3 3 4 5\n",
      "5 4 3 2 2 3 4 5\n",
      "5 4 3 2 1 1 2 3 4 5\n"
     ]
    }
   ],
   "source": [
    "\n",
    "rows = 5\n",
    "for i in range(rows, 0, -1):\n",
    "    left = \" \".join(str(x) for x in range(rows, i - 1, -1))\n",
    "    right = \" \".join(str(x) for x in range(i, rows + 1))\n",
    "    print(left + \" \" + right)\n",
    "    "
   ]
  },
  {
   "cell_type": "markdown",
   "id": "4520a80f",
   "metadata": {},
   "source": [
    "### Even Number Pyramid Pattern"
   ]
  },
  {
   "cell_type": "code",
   "execution_count": 24,
   "id": "034ec7b6",
   "metadata": {},
   "outputs": [
    {
     "name": "stdout",
     "output_type": "stream",
     "text": [
      "10\n",
      "10 8\n",
      "10 8 6\n",
      "10 8 6 4\n",
      "10 8 6 4 2\n"
     ]
    }
   ],
   "source": [
    "\n",
    "rows = 5\n",
    "for i in range(1, rows + 1):\n",
    "    print(\" \".join(str(x) for x in range(10, 10 - i * 2, -2)))\n",
    "    "
   ]
  },
  {
   "cell_type": "markdown",
   "id": "7f23697b",
   "metadata": {},
   "source": [
    "### Pyramid of Horizontal Tables"
   ]
  },
  {
   "cell_type": "code",
   "execution_count": 23,
   "id": "2021de09",
   "metadata": {},
   "outputs": [
    {
     "name": "stdout",
     "output_type": "stream",
     "text": [
      "0\n",
      "0 1\n",
      "0 2 4\n",
      "0 3 6 9\n",
      "0 4 8 12 16\n",
      "0 5 10 15 20 25\n",
      "0 6 12 18 24 30 36\n"
     ]
    }
   ],
   "source": [
    "\n",
    "rows = 7\n",
    "for i in range(rows):\n",
    "    print(\" \".join(str(i * j) for j in range(i + 1)))\n",
    "    "
   ]
  },
  {
   "cell_type": "markdown",
   "id": "ca33146a",
   "metadata": {},
   "source": [
    "### Pyramid Pattern of Alternate Numbers"
   ]
  },
  {
   "cell_type": "code",
   "execution_count": 22,
   "id": "c25f55ef",
   "metadata": {},
   "outputs": [
    {
     "name": "stdout",
     "output_type": "stream",
     "text": [
      "1 \n",
      "3 3 \n",
      "5 5 5 \n",
      "7 7 7 7 \n",
      "9 9 9 9 9 \n"
     ]
    }
   ],
   "source": [
    "\n",
    "rows = 5\n",
    "for i in range(1, rows + 1):\n",
    "    print((str(i * 2 - 1) + \" \") * i)\n",
    "    "
   ]
  },
  {
   "cell_type": "markdown",
   "id": "d224f0ad",
   "metadata": {},
   "source": [
    "### Mirrored Pyramid (Right-angled Triangle) Pattern of Numbers"
   ]
  },
  {
   "cell_type": "code",
   "execution_count": 21,
   "id": "390d14d9",
   "metadata": {},
   "outputs": [
    {
     "name": "stdout",
     "output_type": "stream",
     "text": [
      "        1\n",
      "      1 2\n",
      "    1 2 3\n",
      "  1 2 3 4\n",
      "1 2 3 4 5\n"
     ]
    }
   ],
   "source": [
    "\n",
    "rows = 5\n",
    "for i in range(1, rows + 1):\n",
    "    print(\" \" * (rows - i) * 2 + \" \".join(str(x) for x in range(1, i + 1)))\n",
    "    "
   ]
  },
  {
   "cell_type": "markdown",
   "id": "70a77fc4",
   "metadata": {},
   "source": [
    "### Equilateral Triangle with Stars"
   ]
  },
  {
   "cell_type": "code",
   "execution_count": 20,
   "id": "fbb58446",
   "metadata": {},
   "outputs": [
    {
     "name": "stdout",
     "output_type": "stream",
     "text": [
      "      * \n",
      "     * * \n",
      "    * * * \n",
      "   * * * * \n",
      "  * * * * * \n",
      " * * * * * * \n",
      "* * * * * * * \n"
     ]
    }
   ],
   "source": [
    "\n",
    "rows = 7\n",
    "for i in range(1, rows + 1):\n",
    "    print(\" \" * (rows - i) + \"* \" * i)\n",
    "    "
   ]
  },
  {
   "cell_type": "markdown",
   "id": "773133aa",
   "metadata": {},
   "source": [
    "### Downward Triangle Pattern of Stars"
   ]
  },
  {
   "cell_type": "code",
   "execution_count": 19,
   "id": "d3c6ee0c",
   "metadata": {},
   "outputs": [
    {
     "name": "stdout",
     "output_type": "stream",
     "text": [
      "* * * * * * \n",
      " * * * * * \n",
      "  * * * * \n",
      "   * * * \n",
      "    * * \n",
      "     * \n"
     ]
    }
   ],
   "source": [
    "\n",
    "rows = 6\n",
    "for i in range(rows, 0, -1):\n",
    "    print(\" \" * (rows - i) + \"* \" * i)\n",
    "    "
   ]
  },
  {
   "cell_type": "markdown",
   "id": "2231be55",
   "metadata": {},
   "source": [
    "### Pyramid Pattern of Stars"
   ]
  },
  {
   "cell_type": "code",
   "execution_count": 18,
   "id": "1a1e42af",
   "metadata": {},
   "outputs": [
    {
     "name": "stdout",
     "output_type": "stream",
     "text": [
      "* \n",
      "* * \n",
      "* * * \n",
      "* * * * \n",
      "* * * * * \n"
     ]
    }
   ],
   "source": [
    "\n",
    "rows = 5\n",
    "for i in range(1, rows + 1):\n",
    "    print(\"* \" * i)\n",
    "    "
   ]
  },
  {
   "cell_type": "markdown",
   "id": "ad3ca2ab",
   "metadata": {},
   "source": [
    "## String-Based Questions"
   ]
  },
  {
   "cell_type": "markdown",
   "id": "4ef76865",
   "metadata": {},
   "source": [
    "### Separate String into Comma-Separated Values"
   ]
  },
  {
   "cell_type": "code",
   "execution_count": 17,
   "id": "3c87cd33",
   "metadata": {},
   "outputs": [
    {
     "name": "stdout",
     "output_type": "stream",
     "text": [
      "India,is,my,country\n"
     ]
    }
   ],
   "source": [
    "\n",
    "X = \"India.is.my.country\"\n",
    "print(\",\".join(X.split(\".\")))\n",
    "    "
   ]
  },
  {
   "cell_type": "markdown",
   "id": "e24aea17",
   "metadata": {},
   "source": [
    "### Remove a Given Character from a String"
   ]
  },
  {
   "cell_type": "code",
   "execution_count": 16,
   "id": "278c0f00",
   "metadata": {},
   "outputs": [
    {
     "name": "stdout",
     "output_type": "stream",
     "text": [
      "MANIPAL\n"
     ]
    }
   ],
   "source": [
    "\n",
    "Y = \"M.A.N.I.P.A.L\"\n",
    "print(Y.replace(\".\", \"\"))\n",
    "    "
   ]
  },
  {
   "cell_type": "markdown",
   "id": "e7cbc3e8",
   "metadata": {},
   "source": [
    "### Sort Strings Alphabetically"
   ]
  },
  {
   "cell_type": "code",
   "execution_count": 13,
   "id": "3f67fa72",
   "metadata": {},
   "outputs": [
    {
     "name": "stdout",
     "output_type": "stream",
     "text": [
      "['apple', 'banana', 'cherry', 'date']\n"
     ]
    }
   ],
   "source": [
    "\n",
    "strings = [\"banana\", \"apple\", \"cherry\", \"date\"]\n",
    "strings.sort()\n",
    "print(strings)\n",
    "    "
   ]
  },
  {
   "cell_type": "markdown",
   "id": "88d7d2f9",
   "metadata": {},
   "source": [
    "### Reverse a User-Input String"
   ]
  },
  {
   "cell_type": "code",
   "execution_count": null,
   "id": "7433ea2c",
   "metadata": {},
   "outputs": [],
   "source": [
    "\n",
    "user_input = input(\"Enter a string: \")\n",
    "print(user_input[::-1])\n",
    "    "
   ]
  },
  {
   "cell_type": "markdown",
   "id": "bb2d6ae8",
   "metadata": {},
   "source": [
    "### Check if a String Contains Only Digits"
   ]
  },
  {
   "cell_type": "code",
   "execution_count": 14,
   "id": "89f7181d",
   "metadata": {},
   "outputs": [
    {
     "name": "stdout",
     "output_type": "stream",
     "text": [
      "True\n"
     ]
    }
   ],
   "source": [
    "\n",
    "string = \"12345\"\n",
    "print(string.isdigit())\n",
    "    "
   ]
  },
  {
   "cell_type": "markdown",
   "id": "0246d95a",
   "metadata": {},
   "source": [
    "### Find the Number of Vowels in a String"
   ]
  },
  {
   "cell_type": "code",
   "execution_count": 15,
   "id": "61a38660",
   "metadata": {},
   "outputs": [
    {
     "name": "stdout",
     "output_type": "stream",
     "text": [
      "Number of vowels: 11\n"
     ]
    }
   ],
   "source": [
    "\n",
    "vowels = \"aeiouAEIOU\"\n",
    "string = \"OpenAI creates great models.\"\n",
    "count = sum(1 for char in string if char in vowels)\n",
    "print(\"Number of vowels:\", count)\n",
    "    "
   ]
  },
  {
   "cell_type": "code",
   "execution_count": null,
   "id": "cb34ef11-0912-4d71-ab68-eeb89b7de6f9",
   "metadata": {},
   "outputs": [],
   "source": []
  }
 ],
 "metadata": {
  "kernelspec": {
   "display_name": "Python 3 (ipykernel)",
   "language": "python",
   "name": "python3"
  },
  "language_info": {
   "codemirror_mode": {
    "name": "ipython",
    "version": 3
   },
   "file_extension": ".py",
   "mimetype": "text/x-python",
   "name": "python",
   "nbconvert_exporter": "python",
   "pygments_lexer": "ipython3",
   "version": "3.11.7"
  }
 },
 "nbformat": 4,
 "nbformat_minor": 5
}
